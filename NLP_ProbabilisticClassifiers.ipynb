{
 "cells": [
  {
   "cell_type": "code",
   "metadata": {
    "tags": [],
    "cell_id": "c8e23eba-ab59-4f82-aebf-a5fc7d252ada",
    "deepnote_to_be_reexecuted": false,
    "source_hash": "28f29af3",
    "execution_start": 1650949990716,
    "execution_millis": 15425,
    "deepnote_cell_type": "code",
    "deepnote_cell_height": 897,
    "deepnote_output_heights": [
     null,
     21
    ]
   },
   "source": "!pip install pandas\n!pip install xlrd\n!pip install openpyxl\n!pip install imblearn\n\nimport nltk\nnltk.download('stopwords')\nnltk.download('wordnet')\nnltk.download('omw-1.4')",
   "execution_count": 1,
   "outputs": [
    {
     "name": "stdout",
     "text": "Requirement already satisfied: pandas in /shared-libs/python3.7/py/lib/python3.7/site-packages (1.2.5)\nRequirement already satisfied: pytz>=2017.3 in /shared-libs/python3.7/py/lib/python3.7/site-packages (from pandas) (2022.1)\nRequirement already satisfied: python-dateutil>=2.7.3 in /shared-libs/python3.7/py-core/lib/python3.7/site-packages (from pandas) (2.8.2)\nRequirement already satisfied: numpy>=1.16.5 in /shared-libs/python3.7/py/lib/python3.7/site-packages (from pandas) (1.21.6)\nRequirement already satisfied: six>=1.5 in /shared-libs/python3.7/py-core/lib/python3.7/site-packages (from python-dateutil>=2.7.3->pandas) (1.16.0)\n\u001b[33mWARNING: You are using pip version 20.1.1; however, version 22.0.4 is available.\nYou should consider upgrading via the '/root/venv/bin/python -m pip install --upgrade pip' command.\u001b[0m\nRequirement already satisfied: xlrd in /root/venv/lib/python3.7/site-packages (2.0.1)\n\u001b[33mWARNING: You are using pip version 20.1.1; however, version 22.0.4 is available.\nYou should consider upgrading via the '/root/venv/bin/python -m pip install --upgrade pip' command.\u001b[0m\nRequirement already satisfied: openpyxl in /root/venv/lib/python3.7/site-packages (3.0.9)\nRequirement already satisfied: et-xmlfile in /root/venv/lib/python3.7/site-packages (from openpyxl) (1.1.0)\n\u001b[33mWARNING: You are using pip version 20.1.1; however, version 22.0.4 is available.\nYou should consider upgrading via the '/root/venv/bin/python -m pip install --upgrade pip' command.\u001b[0m\nRequirement already satisfied: imblearn in /root/venv/lib/python3.7/site-packages (0.0)\nRequirement already satisfied: imbalanced-learn in /root/venv/lib/python3.7/site-packages (from imblearn) (0.9.0)\nRequirement already satisfied: numpy>=1.14.6 in /shared-libs/python3.7/py/lib/python3.7/site-packages (from imbalanced-learn->imblearn) (1.21.6)\nRequirement already satisfied: threadpoolctl>=2.0.0 in /shared-libs/python3.7/py/lib/python3.7/site-packages (from imbalanced-learn->imblearn) (3.1.0)\nRequirement already satisfied: joblib>=0.11 in /shared-libs/python3.7/py/lib/python3.7/site-packages (from imbalanced-learn->imblearn) (1.1.0)\nRequirement already satisfied: scikit-learn>=1.0.1 in /shared-libs/python3.7/py/lib/python3.7/site-packages (from imbalanced-learn->imblearn) (1.0.2)\nRequirement already satisfied: scipy>=1.1.0 in /shared-libs/python3.7/py/lib/python3.7/site-packages (from imbalanced-learn->imblearn) (1.7.3)\n\u001b[33mWARNING: You are using pip version 20.1.1; however, version 22.0.4 is available.\nYou should consider upgrading via the '/root/venv/bin/python -m pip install --upgrade pip' command.\u001b[0m\n[nltk_data] Downloading package stopwords to /root/nltk_data...\n[nltk_data]   Package stopwords is already up-to-date!\n[nltk_data] Downloading package wordnet to /root/nltk_data...\n[nltk_data]   Package wordnet is already up-to-date!\n[nltk_data] Downloading package omw-1.4 to /root/nltk_data...\n[nltk_data]   Package omw-1.4 is already up-to-date!\n",
     "output_type": "stream"
    },
    {
     "output_type": "execute_result",
     "execution_count": 1,
     "data": {
      "text/plain": "True"
     },
     "metadata": {}
    }
   ]
  },
  {
   "cell_type": "code",
   "metadata": {
    "cell_id": "fcbc4290b3b7441d9a4f3bbccc4705e3",
    "tags": [],
    "deepnote_to_be_reexecuted": false,
    "source_hash": "f2201484",
    "execution_start": 1650950006145,
    "execution_millis": 155,
    "deepnote_cell_type": "code",
    "deepnote_cell_height": 351
   },
   "source": "import pandas as pd\nimport numpy as np\n\nimport nltk\nfrom nltk.corpus import stopwords\nfrom nltk.stem import PorterStemmer, WordNetLemmatizer\n\nimport sklearn\nfrom sklearn import model_selection, preprocessing, linear_model, naive_bayes\nfrom sklearn.model_selection import train_test_split, GridSearchCV, cross_validate\nfrom sklearn.feature_extraction.text import TfidfVectorizer, CountVectorizer, TfidfTransformer\nfrom sklearn.naive_bayes import MultinomialNB\nfrom sklearn.metrics import f1_score, accuracy_score, classification_report, confusion_matrix\nfrom sklearn.linear_model import LogisticRegression\nfrom imblearn.pipeline import Pipeline\nfrom imblearn.over_sampling import SMOTE ",
   "execution_count": 2,
   "outputs": []
  },
  {
   "cell_type": "markdown",
   "source": "### Defining helping functions",
   "metadata": {
    "cell_id": "c4f35b5035c74543a9c1a37a75282496",
    "tags": [],
    "deepnote_cell_type": "markdown",
    "deepnote_cell_height": 62
   }
  },
  {
   "cell_type": "code",
   "metadata": {
    "cell_id": "25f89c41650c4d729d2e8a7bc6ee9f3b",
    "tags": [],
    "deepnote_to_be_reexecuted": false,
    "source_hash": "2832faeb",
    "execution_start": 1650950006308,
    "execution_millis": 3,
    "owner_user_id": "73973b83-b812-41e7-b3d0-4e767dcbd6f7",
    "deepnote_cell_type": "code",
    "deepnote_cell_height": 873
   },
   "source": "#preprocess data\ndef clean_text_column(df_col):\n    ''' Cleaning text in given dataframe column'''\n\n    #make text lower case\n    df_col = df_col.astype(str)\n    df_col = df_col.str.lower() \n\n    #removing url's, special characters except punctuations, multiple whitespaces, numbers\n    regex_list = [r'http[s]?://(?:[a-zA-Z]|[0-9]|[$-_@.&+]|[!*\\(\\),]|(?:%[0-9a-fA-F][0-9a-fA-F]))+', r'[^\\.\\w\\s\\ ]', r'\\s+', r'[0-9]'] \n    #r'type', r'diabetes'\n    replace_list = [' ', ' ', ' ', '', '']\n\n    for i in range(len(regex_list)):\n        df_col = df_col.str.replace(regex_list[i], replace_list[i]) \n\n    #Fill empty cells with nan values\n    df_col.replace('', np.nan, inplace=True)\n\n    #remove stop-words\n    stop_words = stopwords.words('english')\n    df_col = df_col.apply(lambda x: ' '.join([word for word in x.split() if word not in (stop_words)])) #removing stopwords from news contents.\n\n    # remove small words\n    df_col = df_col.apply(lambda x: ' '.join([word for word in x.split() if len(word) > 3]))\n    df_col = df_col.apply(lambda x: ' '.join([word for word in x.split() if len(word) > 3]))\n\n    #lemmatization\n    lemmatizer = WordNetLemmatizer()\n    df_col = df_col.apply(lambda x: \" \".join([lemmatizer.lemmatize(word) for word in x.split()]))\n\n    return df_col\n\ndef get_important_features(grid_object, n=20):\n    ''' retreiving most and least informative features from gridsearch object. \n    Adjustment for gridsearch and pipeline object added to existing solution.\n    Credit: https://stackoverflow.com/questions/29867367/sklearn-multinomial-nb-most-informative-features'''\n    \n    feature_names = grid_object.best_estimator_.named_steps['vect'].get_feature_names()\n    coefs_with_fns = sorted(zip(grid_object.best_estimator_.named_steps['clf'].coef_[0], feature_names))\n    top = zip(coefs_with_fns[:n], coefs_with_fns[:-(n + 1):-1])\n    for (coef_1, fn_1), (coef_2, fn_2) in top:\n        print(\"\\t%.4f\\t%-15s\" % (coef_2, fn_2))\n            \n    return None",
   "execution_count": 3,
   "outputs": []
  },
  {
   "cell_type": "markdown",
   "source": "### Upload and clean data\n\nData sets are denoted accordingly: patient journey 'pj' and emotions 'em'.",
   "metadata": {
    "cell_id": "22856ec346da44f28e5ad5c260bc8c58",
    "tags": [],
    "deepnote_cell_type": "markdown",
    "deepnote_cell_height": 100
   }
  },
  {
   "cell_type": "code",
   "metadata": {
    "cell_id": "8459c7ceef824eeb8a887d11e734f8a2",
    "tags": [],
    "deepnote_to_be_reexecuted": false,
    "source_hash": "ccee0797",
    "execution_start": 1650950006358,
    "execution_millis": 863,
    "deepnote_cell_type": "code",
    "deepnote_cell_height": 135
   },
   "source": "df_pj = pd.read_excel('Diabetes-classification.xlsx', sheet_name = 0, index_col=0, engine='openpyxl') \n#display(df_pj)\ndf_em = pd.read_excel('Diabetes-classification.xlsx', sheet_name = 1, index_col=0, engine='openpyxl') \n#display(df_em)",
   "execution_count": 4,
   "outputs": []
  },
  {
   "cell_type": "code",
   "metadata": {
    "cell_id": "923941e448a14b959e9f809c503794a2",
    "tags": [],
    "deepnote_to_be_reexecuted": false,
    "source_hash": "21d66207",
    "execution_start": 1650950007224,
    "execution_millis": 1191,
    "deepnote_cell_type": "code",
    "deepnote_cell_height": 399,
    "deepnote_output_heights": [
     21,
     250
    ]
   },
   "source": "df_pj.value_counts('Label').plot(kind='barh')",
   "execution_count": 5,
   "outputs": [
    {
     "output_type": "execute_result",
     "execution_count": 5,
     "data": {
      "text/plain": "<AxesSubplot:ylabel='Label'>"
     },
     "metadata": {}
    },
    {
     "data": {
      "text/plain": "<Figure size 432x288 with 1 Axes>",
      "image/png": "[encoded data removed]"
     },
     "metadata": {
      "needs_background": "light",
      "image/png": {
       "width": 651,
       "height": 248
      }
     },
     "output_type": "display_data"
    }
   ]
  },
  {
   "cell_type": "code",
   "metadata": {
    "cell_id": "6448c83594ea4c50841f60be10fef053",
    "tags": [],
    "deepnote_to_be_reexecuted": false,
    "source_hash": "e10ce9b9",
    "execution_start": 1650950008420,
    "execution_millis": 202,
    "deepnote_cell_type": "code",
    "deepnote_cell_height": 399,
    "deepnote_output_heights": [
     21,
     250
    ]
   },
   "source": "df_em.value_counts('Label').plot(kind='barh')",
   "execution_count": 6,
   "outputs": [
    {
     "output_type": "execute_result",
     "execution_count": 6,
     "data": {
      "text/plain": "<AxesSubplot:ylabel='Label'>"
     },
     "metadata": {}
    },
    {
     "data": {
      "text/plain": "<Figure size 432x288 with 1 Axes>",
      "image/png": "[encoded data removed]"
     },
     "metadata": {
      "needs_background": "light",
      "image/png": {
       "width": 438,
       "height": 248
      }
     },
     "output_type": "display_data"
    }
   ]
  },
  {
   "cell_type": "code",
   "metadata": {
    "cell_id": "318562f0b9ad487bb92c1b55f27fb523",
    "tags": [],
    "deepnote_to_be_reexecuted": false,
    "source_hash": "ad15dfd9",
    "execution_start": 1650950008625,
    "execution_millis": 3254,
    "deepnote_cell_type": "code",
    "deepnote_cell_height": 368
   },
   "source": "#cleaning data\nX_pj = clean_text_column(df_pj.discussion_text.copy()) \nX_em = clean_text_column(df_em.discussion_text.copy()) \n\n#Converting labels to integers between 0 and n-1\nencoder_pj, encoder_em = preprocessing.LabelEncoder(), preprocessing.LabelEncoder()\nlabels_pj, labels_em = encoder_pj.fit_transform(df_pj.Label.copy()), encoder_em.fit_transform(df_em.Label.copy())\nlabel_mapping_pj = dict(zip(encoder_pj.classes_, encoder_pj.transform(encoder_pj.classes_)))\nlabel_mapping_em = dict(zip(encoder_em.classes_, encoder_em.transform(encoder_em.classes_)))\n\n#Splitting data\nX_pj, X_pj_test, y_pj, y_pj_test = train_test_split(X_pj, labels_pj, test_size=0.2, random_state=1)\nX_em, X_em_test, y_em, y_em_test = train_test_split(X_em, labels_em, test_size=0.2, random_state=1)",
   "execution_count": 7,
   "outputs": [
    {
     "name": "stderr",
     "text": "/shared-libs/python3.7/py-core/lib/python3.7/site-packages/ipykernel_launcher.py:15: FutureWarning: The default value of regex will change from True to False in a future version.\n  from ipykernel import kernelapp as app\n",
     "output_type": "stream"
    }
   ]
  },
  {
   "cell_type": "code",
   "metadata": {
    "cell_id": "186b6f837981400f8b8860c24f3ca74f",
    "tags": [],
    "deepnote_to_be_reexecuted": false,
    "source_hash": "73d885ae",
    "execution_start": 1650950011885,
    "execution_millis": 43,
    "deepnote_cell_type": "code",
    "deepnote_cell_height": 168
   },
   "source": "#Checking shapes of data splits\nprint(X_pj.shape, X_pj_test.shape, y_pj.shape, y_pj_test.shape)\nprint(X_em.shape, X_em_test.shape, y_em.shape, y_em_test.shape)",
   "execution_count": 8,
   "outputs": [
    {
     "name": "stdout",
     "text": "(1140,) (286,) (1140,) (286,)\n(2708,) (678,) (2708,) (678,)\n",
     "output_type": "stream"
    }
   ]
  },
  {
   "cell_type": "markdown",
   "source": "## Training Models\nFor each model, a pipeline and grid search parameters are defined. GridSearchCV() is used to measure validation score on combinations of model parameters. Combinations are made from using the detined parameters on the defined pipeline. The left handside of the defined parameters refer to the name of the method in the pipeline followed by '__' and the name of the parameter related to that function it holds values for.",
   "metadata": {
    "cell_id": "a3b1038551e6490cb16b8def01cbb02e",
    "tags": [],
    "deepnote_cell_type": "markdown",
    "deepnote_cell_height": 174
   }
  },
  {
   "cell_type": "markdown",
   "source": "### Training Multinomial Bayes Models\n",
   "metadata": {
    "cell_id": "9a232a7481a840c6881d40f99b609cb3",
    "tags": [],
    "deepnote_cell_type": "markdown",
    "deepnote_cell_height": 62
   }
  },
  {
   "cell_type": "code",
   "metadata": {
    "cell_id": "b46ad317cec84f79bf2c7600ac62b54b",
    "tags": [],
    "deepnote_to_be_reexecuted": false,
    "source_hash": "542c97c6",
    "execution_start": 1650950011927,
    "execution_millis": 7293,
    "deepnote_cell_type": "code",
    "deepnote_cell_height": 778
   },
   "source": "nb_clf = Pipeline([('vect', CountVectorizer()),\n                ('sampling', SMOTE(random_state=42)),\n                ('clf', MultinomialNB())])\n\nparameters = {'vect__ngram_range': [(1, 1), (1, 2)],\n              'clf__fit_prior': (True, False),\n              'clf__alpha': (0.5, 1.0)}\n\n#Patient journey model\nnb_pj = GridSearchCV(nb_clf, parameters, n_jobs=-1) #performing gridsearch\nnb_pj.fit(X_pj, y_pj)\n\nprint(\"best mean cross-validation score: {:.3f}\".format(nb_pj.best_score_))\nprint(\"best parameters:\", nb_pj.best_params_) \n\nprint('NB classifier of patient journey - report:\\n\\n',\n    classification_report(y_pj_test, nb_pj.predict(X_pj_test), digits=4, \n    target_names=label_mapping_pj))",
   "execution_count": 9,
   "outputs": [
    {
     "name": "stdout",
     "text": "best mean cross-validation score: 0.476\nbest parameters: {'clf__alpha': 1.0, 'clf__fit_prior': True, 'vect__ngram_range': (1, 1)}\nNB classifier of patient journey - report:\n\n                                                             precision    recall  f1-score   support\n\n                                     Alternative Treatment     0.0000    0.0000    0.0000         3\n                                        Clinical Treatment     0.4048    0.4857    0.4416        35\n                                                Diagnosis      0.2500    0.0833    0.1250        12\n                           Living with diabetes - Exercise     0.5455    0.3913    0.4557        46\nLiving with diabetes - Lifestyle; Social and Psychological     0.3966    0.3898    0.3932        59\n                          Living with diabetes - Nutrition     0.4957    0.7532    0.5979        77\n                            Relatives of diabetes patients     1.0000    0.0714    0.1333        14\n                                               Undiagnosed     0.5517    0.4000    0.4638        40\n\n                                                  accuracy                         0.4685       286\n                                                 macro avg     0.4555    0.3219    0.3263       286\n                                              weighted avg     0.4891    0.4685    0.4461       286\n\n",
     "output_type": "stream"
    }
   ]
  },
  {
   "cell_type": "code",
   "metadata": {
    "cell_id": "82c86c089f0c4f73a7ec68c05dda1ad2",
    "tags": [],
    "deepnote_to_be_reexecuted": false,
    "source_hash": "324d51d4",
    "execution_start": 1650950019219,
    "execution_millis": 2519,
    "deepnote_cell_type": "code",
    "deepnote_cell_height": 1007
   },
   "source": "nb_clf2 = Pipeline([('vect', CountVectorizer()),\n                    ('tfidf', TfidfTransformer()),\n                    ('clf', MultinomialNB())])\n\nparameters2 = {#'vect__ngram_range': [(1, 1), (1, 2)],\n            'clf__fit_prior': (True, False),\n            'clf__alpha': (0.5, 1.0)}\n\n#Emotions model\nnb_em = GridSearchCV(nb_clf2, parameters2, n_jobs=-1)\nnb_em.fit(X_em, y_em)\n\nprint(\"best mean cross-validation score: {:.3f}\".format(nb_em.best_score_))\nprint(\"best parameters:\", nb_em.best_params_) \n\nprint('\\nNB classifier of emotions - report:\\n\\n', \n    classification_report(y_em_test, nb_em.predict(X_em_test), digits=4, \n    target_names=label_mapping_em))",
   "execution_count": 10,
   "outputs": [
    {
     "name": "stdout",
     "text": "best mean cross-validation score: 0.287\nbest parameters: {'clf__alpha': 1.0, 'clf__fit_prior': True}\n\nNB classifier of emotions - report:\n\n               precision    recall  f1-score   support\n\n       Anger     0.0000    0.0000    0.0000        20\nAnticipation     0.1364    0.0915    0.1095       164\n     Disgust     0.0000    0.0000    0.0000        62\n        Fear     0.0000    0.0000    0.0000        25\n         Joy     0.0000    0.0000    0.0000        57\n     Sadness     0.0000    0.0000    0.0000        78\n    Surprise     0.0000    0.0000    0.0000        29\n       Trust     0.3398    0.7942    0.4760       243\n\n    accuracy                         0.3068       678\n   macro avg     0.0595    0.1107    0.0732       678\nweighted avg     0.1548    0.3068    0.1971       678\n\n/shared-libs/python3.7/py/lib/python3.7/site-packages/sklearn/metrics/_classification.py:1318: UndefinedMetricWarning: Precision and F-score are ill-defined and being set to 0.0 in labels with no predicted samples. Use `zero_division` parameter to control this behavior.\n  _warn_prf(average, modifier, msg_start, len(result))\n/shared-libs/python3.7/py/lib/python3.7/site-packages/sklearn/metrics/_classification.py:1318: UndefinedMetricWarning: Precision and F-score are ill-defined and being set to 0.0 in labels with no predicted samples. Use `zero_division` parameter to control this behavior.\n  _warn_prf(average, modifier, msg_start, len(result))\n/shared-libs/python3.7/py/lib/python3.7/site-packages/sklearn/metrics/_classification.py:1318: UndefinedMetricWarning: Precision and F-score are ill-defined and being set to 0.0 in labels with no predicted samples. Use `zero_division` parameter to control this behavior.\n  _warn_prf(average, modifier, msg_start, len(result))\n",
     "output_type": "stream"
    }
   ]
  },
  {
   "cell_type": "markdown",
   "source": "### Training Logistic Regression Models",
   "metadata": {
    "cell_id": "597910f17b12435da04df54343b34d94",
    "tags": [],
    "deepnote_cell_type": "markdown",
    "deepnote_cell_height": 62
   }
  },
  {
   "cell_type": "code",
   "metadata": {
    "cell_id": "7fe84b714b85495b96b39c6e3a4ccd48",
    "tags": [],
    "deepnote_to_be_reexecuted": false,
    "source_hash": "4def786e",
    "execution_start": 1650950021745,
    "execution_millis": 36933,
    "deepnote_cell_type": "code",
    "deepnote_cell_height": 1025
   },
   "source": "lr_clf = Pipeline([('vect', CountVectorizer()),\n                ('tfidf', TfidfTransformer()),\n                ('sampling', SMOTE(random_state=42)),\n                ('clf', LogisticRegression())])\n\nlr_parameters = {'vect__ngram_range': [(1, 1), (1, 2)],\n                'clf__penalty' : ['l1', 'l2'],\n                'clf__solver' : ['liblinear', 'saga', 'newton-cg']},\n\n#Patient journey model\nlr_pj = GridSearchCV(lr_clf, lr_parameters, n_jobs=-1)\nlr_pj.fit(X_pj, y_pj)\n\nprint(\"best mean cross-validation score: {:.3f}\".format(lr_pj.best_score_))\nprint(\"best parameters:\", lr_pj.best_params_) \n\nprint('LR classifier of patient journey - report:\\n\\n', \n    classification_report(y_pj_test, lr_pj.predict(X_pj_test), digits=4, \n    target_names=label_mapping_pj))",
   "execution_count": 11,
   "outputs": [
    {
     "name": "stderr",
     "text": "/shared-libs/python3.7/py/lib/python3.7/site-packages/sklearn/model_selection/_validation.py:372: FitFailedWarning: \n10 fits failed out of a total of 60.\nThe score on these train-test partitions for these parameters will be set to nan.\nIf these failures are not expected, you can try to debug them by setting error_score='raise'.\n\nBelow are more details about the failures:\n--------------------------------------------------------------------------------\n10 fits failed with the following error:\nTraceback (most recent call last):\n  File \"/shared-libs/python3.7/py/lib/python3.7/site-packages/sklearn/model_selection/_validation.py\", line 680, in _fit_and_score\n    estimator.fit(X_train, y_train, **fit_params)\n  File \"/root/venv/lib/python3.7/site-packages/imblearn/pipeline.py\", line 272, in fit\n    self._final_estimator.fit(Xt, yt, **fit_params_last_step)\n  File \"/shared-libs/python3.7/py/lib/python3.7/site-packages/sklearn/linear_model/_logistic.py\", line 1461, in fit\n    solver = _check_solver(self.solver, self.penalty, self.dual)\n  File \"/shared-libs/python3.7/py/lib/python3.7/site-packages/sklearn/linear_model/_logistic.py\", line 449, in _check_solver\n    % (solver, penalty)\nValueError: Solver newton-cg supports only 'l2' or 'none' penalties, got l1 penalty.\n\n  warnings.warn(some_fits_failed_message, FitFailedWarning)\n/shared-libs/python3.7/py/lib/python3.7/site-packages/sklearn/model_selection/_search.py:972: UserWarning: One or more of the test scores are non-finite: [0.50263158 0.47280702 0.50263158 0.45526316        nan        nan\n 0.51315789 0.50263158 0.51578947 0.50350877 0.51754386 0.50438596]\n  category=UserWarning,\nbest mean cross-validation score: 0.518\nbest parameters: {'clf__penalty': 'l2', 'clf__solver': 'newton-cg', 'vect__ngram_range': (1, 1)}\nLR classifier of patient journey - report:\n\n                                                             precision    recall  f1-score   support\n\n                                     Alternative Treatment     0.0000    0.0000    0.0000         3\n                                        Clinical Treatment     0.4318    0.5429    0.4810        35\n                                                Diagnosis      0.5833    0.5833    0.5833        12\n                           Living with diabetes - Exercise     0.7059    0.5217    0.6000        46\nLiving with diabetes - Lifestyle; Social and Psychological     0.3973    0.4915    0.4394        59\n                          Living with diabetes - Nutrition     0.6582    0.6753    0.6667        77\n                            Relatives of diabetes patients     0.6667    0.1429    0.2353        14\n                                               Undiagnosed     0.4878    0.5000    0.4938        40\n\n                                                  accuracy                         0.5350       286\n                                                 macro avg     0.4914    0.4322    0.4374       286\n                                              weighted avg     0.5509    0.5350    0.5306       286\n\n/shared-libs/python3.7/py/lib/python3.7/site-packages/sklearn/metrics/_classification.py:1318: UndefinedMetricWarning: Precision and F-score are ill-defined and being set to 0.0 in labels with no predicted samples. Use `zero_division` parameter to control this behavior.\n  _warn_prf(average, modifier, msg_start, len(result))\n/shared-libs/python3.7/py/lib/python3.7/site-packages/sklearn/metrics/_classification.py:1318: UndefinedMetricWarning: Precision and F-score are ill-defined and being set to 0.0 in labels with no predicted samples. Use `zero_division` parameter to control this behavior.\n  _warn_prf(average, modifier, msg_start, len(result))\n/shared-libs/python3.7/py/lib/python3.7/site-packages/sklearn/metrics/_classification.py:1318: UndefinedMetricWarning: Precision and F-score are ill-defined and being set to 0.0 in labels with no predicted samples. Use `zero_division` parameter to control this behavior.\n  _warn_prf(average, modifier, msg_start, len(result))\n",
     "output_type": "stream"
    }
   ]
  },
  {
   "cell_type": "code",
   "metadata": {
    "cell_id": "6c1c77842ae64c0990a7d1a9a4149c7b",
    "tags": [],
    "deepnote_to_be_reexecuted": false,
    "source_hash": "1072c102",
    "execution_start": 1650950058688,
    "execution_millis": 123126,
    "deepnote_cell_type": "code",
    "deepnote_cell_height": 1007
   },
   "source": "#LR emotions\nlr_clf2 = Pipeline([('vect', CountVectorizer()),\n                ('clf', LogisticRegression())])\n\nlr_parameters2 = {'vect__ngram_range': [(1, 1), (1, 2)],\n              'clf__penalty' : ['l1', 'l2'],\n              'clf__solver' : ['liblinear', 'saga', 'newton-cg']},\n\n#Emotions model\nlr_em = GridSearchCV(lr_clf2, lr_parameters2, n_jobs=-1)\nlr_em.fit(X_em, y_em)\n\nprint(\"best mean cross-validation score: {:.3f}\".format(lr_em.best_score_))\nprint(\"best parameters:\", lr_em.best_params_) \n\nprint('LR classifier of emotions - report:\\n\\n', \n    classification_report(y_em_test, lr_em.predict(X_em_test), digits=4, \n    target_names=label_mapping_em))",
   "execution_count": 12,
   "outputs": [
    {
     "name": "stderr",
     "text": "/shared-libs/python3.7/py/lib/python3.7/site-packages/sklearn/model_selection/_validation.py:372: FitFailedWarning: \n10 fits failed out of a total of 60.\nThe score on these train-test partitions for these parameters will be set to nan.\nIf these failures are not expected, you can try to debug them by setting error_score='raise'.\n\nBelow are more details about the failures:\n--------------------------------------------------------------------------------\n10 fits failed with the following error:\nTraceback (most recent call last):\n  File \"/shared-libs/python3.7/py/lib/python3.7/site-packages/sklearn/model_selection/_validation.py\", line 680, in _fit_and_score\n    estimator.fit(X_train, y_train, **fit_params)\n  File \"/root/venv/lib/python3.7/site-packages/imblearn/pipeline.py\", line 272, in fit\n    self._final_estimator.fit(Xt, yt, **fit_params_last_step)\n  File \"/shared-libs/python3.7/py/lib/python3.7/site-packages/sklearn/linear_model/_logistic.py\", line 1461, in fit\n    solver = _check_solver(self.solver, self.penalty, self.dual)\n  File \"/shared-libs/python3.7/py/lib/python3.7/site-packages/sklearn/linear_model/_logistic.py\", line 449, in _check_solver\n    % (solver, penalty)\nValueError: Solver newton-cg supports only 'l2' or 'none' penalties, got l1 penalty.\n\n  warnings.warn(some_fits_failed_message, FitFailedWarning)\n/shared-libs/python3.7/py/lib/python3.7/site-packages/sklearn/model_selection/_search.py:972: UserWarning: One or more of the test scores are non-finite: [0.18168623 0.18279802 0.19386949 0.18980431        nan        nan\n 0.15066809 0.16543779 0.15251857 0.16211198 0.15103983 0.16654753]\n  category=UserWarning,\nbest mean cross-validation score: 0.194\nbest parameters: {'clf__penalty': 'l1', 'clf__solver': 'saga', 'vect__ngram_range': (1, 1)}\nLR classifier of emotions - report:\n\n               precision    recall  f1-score   support\n\n       Anger     0.0000    0.0000    0.0000        20\nAnticipation     0.1546    0.1951    0.1725       164\n     Disgust     0.0541    0.0323    0.0404        62\n        Fear     0.0000    0.0000    0.0000        25\n         Joy     0.0000    0.0000    0.0000        57\n     Sadness     0.0250    0.0128    0.0169        78\n    Surprise     0.0000    0.0000    0.0000        29\n       Trust     0.2941    0.3909    0.3357       243\n\n    accuracy                         0.1917       678\n   macro avg     0.0660    0.0789    0.0707       678\nweighted avg     0.1506    0.1917    0.1677       678\n\n/shared-libs/python3.7/py/lib/python3.7/site-packages/sklearn/linear_model/_sag.py:354: ConvergenceWarning: The max_iter was reached which means the coef_ did not converge\n  ConvergenceWarning,\n",
     "output_type": "stream"
    }
   ]
  },
  {
   "cell_type": "code",
   "metadata": {
    "cell_id": "aadebfcfa09347b8a7e6890919253972",
    "tags": [],
    "deepnote_to_be_reexecuted": false,
    "source_hash": "3a06fe56",
    "execution_start": 1650950181342,
    "execution_millis": 487,
    "deepnote_cell_type": "code",
    "deepnote_cell_height": 701
   },
   "source": "get_important_features(nb_pj, n=30)",
   "execution_count": 13,
   "outputs": [
    {
     "name": "stdout",
     "text": "\t-2.9037\tdiabetes       \n\t-3.2732\ttype           \n\t-4.4912\tcurcumin       \n\t-4.6185\thelp           \n\t-4.8083\ttherapy        \n\t-5.0427\tplan           \n\t-5.0617\tmagnesium      \n\t-5.3754\tpatient        \n\t-5.3754\tinsulin        \n\t-5.4295\tpeople         \n\t-5.7941\topen           \n\t-5.8349\treverse        \n\t-5.8349\toregano        \n\t-5.8349\textract        \n\t-5.8349\tdried          \n\t-5.8349\tbook           \n\t-5.9685\tsugar          \n\t-5.9685\tblood          \n\t-6.0173\tseveral        \n\t-6.0173\treceptor       \n\t-6.0173\toral           \n\t-6.0173\tclinical       \n\t-6.0173\tagonist        \n\t-6.0685\tsimply         \n\t-6.0685\thealth         \n\t-6.1226\tmany           \n\t-6.1226\tlower          \n\t-6.1798\trecently       \n\t-6.1798\tproduct        \n\t-6.1798\tpartner        \n/shared-libs/python3.7/py/lib/python3.7/site-packages/sklearn/utils/deprecation.py:87: FutureWarning: Function get_feature_names is deprecated; get_feature_names is deprecated in 1.0 and will be removed in 1.2. Please use get_feature_names_out instead.\n  warnings.warn(msg, category=FutureWarning)\n/shared-libs/python3.7/py/lib/python3.7/site-packages/sklearn/utils/deprecation.py:103: FutureWarning: Attribute `coef_` was deprecated in version 0.24 and will be removed in 1.1 (renaming of 0.26).\n  warnings.warn(msg, category=FutureWarning)\n",
     "output_type": "stream"
    }
   ]
  },
  {
   "cell_type": "code",
   "metadata": {
    "cell_id": "a4c16ffbbc59455e9163c3b2843761ae",
    "tags": [],
    "deepnote_to_be_reexecuted": false,
    "source_hash": "2048867f",
    "execution_start": 1650950181380,
    "execution_millis": 460,
    "deepnote_cell_type": "code",
    "deepnote_cell_height": 692
   },
   "source": "get_important_features(lr_pj, n=30)",
   "execution_count": 14,
   "outputs": [
    {
     "name": "stdout",
     "text": "\t2.9635\tcurcumin       \n\t2.2614\ttherapy        \n\t1.9741\tbeginning      \n\t1.8732\tmagnesium      \n\t1.7580\thelp           \n\t1.6106\tcinnamon       \n\t1.5545\trelieve        \n\t1.5545\tcycled         \n\t1.5545\tcissus         \n\t1.5495\tpartner        \n\t1.5442\tspeedy         \n\t1.5442\tresolved       \n\t1.5442\trecovery       \n\t1.5338\tbook           \n\t1.5187\treverse        \n\t1.4754\therbal         \n\t1.4484\tlot            \n\t1.4275\tcalled         \n\t1.4113\tfree           \n\t1.3926\tproduct        \n\t1.3910\theal           \n\t1.3854\tliving         \n\t1.3580\tsimply         \n\t1.3424\tdp             \n\t1.3154\tstigalaptin    \n\t1.3154\tspoken         \n\t1.3154\tlowerer        \n\t1.2774\tprofile        \n\t1.2626\tvariation      \n\t1.2621\tplan           \n",
     "output_type": "stream"
    }
   ]
  },
  {
   "cell_type": "code",
   "metadata": {
    "cell_id": "e28b3660f4504863a9445df3968de5a9",
    "tags": [],
    "deepnote_to_be_reexecuted": false,
    "source_hash": "5f4e580f",
    "execution_start": 1650950181423,
    "execution_millis": 424,
    "owner_user_id": "1fc95ca3-2d5f-4b47-9627-7642572fc6be",
    "deepnote_cell_type": "code",
    "deepnote_cell_height": 692
   },
   "source": "get_important_features(nb_em, n=30)",
   "execution_count": 15,
   "outputs": [
    {
     "name": "stdout",
     "text": "\t-7.4336\tdiabetes       \n\t-7.5669\ttype           \n\t-7.9430\tblood          \n\t-7.9593\tyear           \n\t-7.9853\ttest           \n\t-8.0133\tdiagnosed      \n\t-8.0249\tdiet           \n\t-8.0398\tpeople         \n\t-8.1244\tsince          \n\t-8.1478\tgood           \n\t-8.1562\tsugar          \n\t-8.1702\tweight         \n\t-8.1705\tmuch           \n\t-8.1824\tmetformin      \n\t-8.1991\tdisease        \n\t-8.2204\tknow           \n\t-8.2290\thalf           \n\t-8.2307\tlevel          \n\t-8.2407\twork           \n\t-8.2411\thigh           \n\t-8.2544\teven           \n\t-8.2664\thelp           \n\t-8.2704\tthough         \n\t-8.2715\tinsulin        \n\t-8.2760\tglucose        \n\t-8.2809\tcontrol        \n\t-8.2977\ttell           \n\t-8.2992\texercise       \n\t-8.3051\tthis           \n\t-8.3068\tcongrats       \n",
     "output_type": "stream"
    }
   ]
  },
  {
   "cell_type": "code",
   "metadata": {
    "cell_id": "fc46f03a27da44adb9956f073d86f693",
    "tags": [],
    "deepnote_to_be_reexecuted": false,
    "source_hash": "81053467",
    "execution_start": 1650950181424,
    "execution_millis": 432,
    "deepnote_cell_type": "code",
    "deepnote_cell_height": 692
   },
   "source": "get_important_features(lr_em, n=30)",
   "execution_count": 16,
   "outputs": [
    {
     "name": "stdout",
     "text": "\t1.2574\thalf           \n\t0.9856\tglycemic       \n\t0.9050\tacross         \n\t0.7238\tthreat         \n\t0.7172\tcongrats       \n\t0.6164\tsitting        \n\t0.5973\twithout        \n\t0.5828\tthough         \n\t0.5741\tempagliflozin  \n\t0.5295\tnot            \n\t0.4984\tmicronase      \n\t0.4982\tfigure         \n\t0.4905\tknew           \n\t0.4728\taction         \n\t0.4637\tpractice       \n\t0.4545\tsomeone        \n\t0.4166\tdisease        \n\t0.4030\tdiscussion     \n\t0.4001\tglucagon       \n\t0.3990\tactually       \n\t0.3901\tpredisposition \n\t0.3861\tfelt           \n\t0.3809\tblood          \n\t0.3775\tsteve          \n\t0.3770\tcontinued      \n\t0.3765\tsleep          \n\t0.3745\tthis           \n\t0.3728\twritten        \n\t0.3711\thold           \n\t0.3605\tassumption     \n",
     "output_type": "stream"
    }
   ]
  },
  {
   "cell_type": "markdown",
   "source": "<a style='text-decoration:none;line-height:16px;display:flex;color:#5B5B62;padding:10px;justify-content:end;' href='https://deepnote.com?utm_source=created-in-deepnote-cell&projectId=99d4bb8c-b67e-41c2-9ec4-fb5d0258e762' target=\"_blank\">\n<img alt='Created in deepnote.com' style='display:inline;max-height:16px;margin:0px;margin-right:7.5px;' src='data:image/svg+xml;base64,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' > </img>\nCreated in <span style='font-weight:600;margin-left:4px;'>Deepnote</span></a>",
   "metadata": {
    "tags": [],
    "created_in_deepnote_cell": true,
    "deepnote_cell_type": "markdown"
   }
  }
 ],
 "nbformat": 4,
 "nbformat_minor": 2,
 "metadata": {
  "orig_nbformat": 2,
  "deepnote": {},
  "deepnote_notebook_id": "22b1a162-0332-49d4-b6e2-382463b7b437",
  "deepnote_execution_queue": []
 }
}